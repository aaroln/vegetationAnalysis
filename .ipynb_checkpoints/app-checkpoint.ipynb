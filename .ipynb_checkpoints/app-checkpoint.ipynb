{
 "cells": [
  {
   "cell_type": "code",
   "execution_count": 33,
   "id": "1127c54b-6eae-4359-b0b5-822dbb5893d9",
   "metadata": {},
   "outputs": [],
   "source": [
    "import ee\n",
    "import geemap\n",
    "import numpy"
   ]
  },
  {
   "cell_type": "code",
   "execution_count": 11,
   "id": "e2649340-7161-42b6-989f-7379090bf7ed",
   "metadata": {},
   "outputs": [],
   "source": [
    "ee.Initialize()"
   ]
  },
  {
   "cell_type": "code",
   "execution_count": 36,
   "id": "10faa8b7-5f9b-4331-a83c-8de4fdb25a24",
   "metadata": {},
   "outputs": [
    {
     "data": {
      "application/vnd.jupyter.widget-view+json": {
       "model_id": "e8317cb3b5dc4fcca68f6a10ffa3066e",
       "version_major": 2,
       "version_minor": 0
      },
      "text/plain": [
       "Map(center=[20, 0], controls=(WidgetControl(options=['position', 'transparent_bg'], widget=HBox(children=(Togg…"
      ]
     },
     "metadata": {},
     "output_type": "display_data"
    }
   ],
   "source": [
    "Map = geemap.Map()\n",
    "Map"
   ]
  },
  {
   "cell_type": "code",
   "execution_count": 29,
   "id": "0950b165-47ed-4ce7-9616-227632ba1bf9",
   "metadata": {},
   "outputs": [],
   "source": [
    "landsat4 = ee.ImageCollection(\"LANDSAT/LT04/C02/T1_L2\")\n",
    "roi = "
   ]
  },
  {
   "cell_type": "code",
   "execution_count": 32,
   "id": "448e4248-a6b4-41a7-88c1-8b2e4c1d3d3e",
   "metadata": {},
   "outputs": [
    {
     "data": {
      "text/html": [
       "<div><style>:root {\n",
       "  --font-color-primary: var(--jp-content-font-color0, rgba(0, 0, 0, 1));\n",
       "  --font-color-secondary: var(--jp-content-font-color2, rgba(0, 0, 0, 0.6));\n",
       "  --font-color-accent: rgba(123, 31, 162, 1);\n",
       "  --border-color: var(--jp-border-color2, #e0e0e0);\n",
       "  --background-color: var(--jp-layout-color0, white);\n",
       "  --background-color-row-even: var(--jp-layout-color1, white);\n",
       "  --background-color-row-odd: var(--jp-layout-color2, #eeeeee);\n",
       "}\n",
       "\n",
       "html[theme=\"dark\"],\n",
       "body[data-theme=\"dark\"],\n",
       "body.vscode-dark {\n",
       "  --font-color-primary: rgba(255, 255, 255, 1);\n",
       "  --font-color-secondary: rgba(255, 255, 255, 0.6);\n",
       "  --font-color-accent: rgb(173, 132, 190);\n",
       "  --border-color: #2e2e2e;\n",
       "  --background-color: #111111;\n",
       "  --background-color-row-even: #111111;\n",
       "  --background-color-row-odd: #313131;\n",
       "}\n",
       "\n",
       ".ee {\n",
       "  padding: 1em;\n",
       "  line-height: 1.5em;\n",
       "  min-width: 300px;\n",
       "  max-width: 1200px;\n",
       "  overflow-y: scroll;\n",
       "  max-height: 600px;\n",
       "  border: 1px solid var(--border-color);\n",
       "  font-family: monospace;\n",
       "}\n",
       "\n",
       ".ee li {\n",
       "  list-style-type: none;\n",
       "}\n",
       "\n",
       ".ee ul {\n",
       "  padding-left: 1.5em !important;\n",
       "  margin: 0;\n",
       "}\n",
       "\n",
       ".ee > ul {\n",
       "  padding-left: 0 !important;\n",
       "}\n",
       "\n",
       ".ee-open,\n",
       ".ee-shut {\n",
       "  color: var(--font-color-secondary);\n",
       "  cursor: pointer;\n",
       "  margin: 0;\n",
       "}\n",
       "\n",
       ".ee-open:hover,\n",
       ".ee-shut:hover {\n",
       "  color: var(--font-color-primary);\n",
       "}\n",
       "\n",
       ".ee-k {\n",
       "  color: var(--font-color-accent);\n",
       "  margin-right: 6px;\n",
       "}\n",
       "\n",
       ".ee-v {\n",
       "  color: var(--font-color-primary);\n",
       "}\n",
       "\n",
       ".ee-toggle {\n",
       "  display: none;\n",
       "}\n",
       "\n",
       ".ee-shut + ul {\n",
       "  display: none;\n",
       "}\n",
       "\n",
       ".ee-open + ul {\n",
       "  display: block;\n",
       "}\n",
       "\n",
       ".ee-shut::before {\n",
       "  display: inline-block;\n",
       "  content: \"▼\";\n",
       "  margin-right: 6px;\n",
       "  transform: rotate(-90deg);\n",
       "  transition: transform 0.2s;\n",
       "}\n",
       "\n",
       ".ee-open::before {\n",
       "  transform: rotate(0deg);\n",
       "  display: inline-block;\n",
       "  content: \"▼\";\n",
       "  margin-right: 6px;\n",
       "  transition: transform 0.2s;\n",
       "}\n",
       "</style><div class='ee'><ul><li><label class='ee-shut'>Image LANDSAT/LT04/C02/T1/LT04_001027_19821202 (13 bands)<input type='checkbox' class='ee-toggle'></label><ul><li><span class='ee-k'>type:</span><span class='ee-v'>Image</span></li><li><span class='ee-k'>id:</span><span class='ee-v'>LANDSAT/LT04/C02/T1/LT04_001027_19821202</span></li><li><span class='ee-k'>version:</span><span class='ee-v'>1653107542362489</span></li><li><label class='ee-shut'>bands: List (13 elements)<input type='checkbox' class='ee-toggle'></label><ul><li><label class='ee-shut'>0: \"B1\", unsigned int8, EPSG:32622, 8051x7341 px<input type='checkbox' class='ee-toggle'></label><ul><li><span class='ee-k'>id:</span><span class='ee-v'>B1</span></li><li><span class='ee-k'>crs:</span><span class='ee-v'>EPSG:32622</span></li><li><label class='ee-shut'>crs_transform: [30, 0, 280785, 0, -30, 5363115]<input type='checkbox' class='ee-toggle'></label><ul><li><span class='ee-k'>0:</span><span class='ee-v'>30</span></li><li><span class='ee-k'>1:</span><span class='ee-v'>0</span></li><li><span class='ee-k'>2:</span><span class='ee-v'>280785</span></li><li><span class='ee-k'>3:</span><span class='ee-v'>0</span></li><li><span class='ee-k'>4:</span><span class='ee-v'>-30</span></li><li><span class='ee-k'>5:</span><span class='ee-v'>5363115</span></li></ul></li><li><label class='ee-shut'>data_type: unsigned int8<input type='checkbox' class='ee-toggle'></label><ul><li><span class='ee-k'>type:</span><span class='ee-v'>PixelType</span></li><li><span class='ee-k'>max:</span><span class='ee-v'>255</span></li><li><span class='ee-k'>min:</span><span class='ee-v'>0</span></li><li><span class='ee-k'>precision:</span><span class='ee-v'>int</span></li></ul></li><li><label class='ee-shut'>dimensions: [8051, 7341]<input type='checkbox' class='ee-toggle'></label><ul><li><span class='ee-k'>0:</span><span class='ee-v'>8051</span></li><li><span class='ee-k'>1:</span><span class='ee-v'>7341</span></li></ul></li></ul></li><li><label class='ee-shut'>1: \"B2\", unsigned int8, EPSG:32622, 8051x7341 px<input type='checkbox' class='ee-toggle'></label><ul><li><span class='ee-k'>id:</span><span class='ee-v'>B2</span></li><li><span class='ee-k'>crs:</span><span class='ee-v'>EPSG:32622</span></li><li><label class='ee-shut'>crs_transform: [30, 0, 280785, 0, -30, 5363115]<input type='checkbox' class='ee-toggle'></label><ul><li><span class='ee-k'>0:</span><span class='ee-v'>30</span></li><li><span class='ee-k'>1:</span><span class='ee-v'>0</span></li><li><span class='ee-k'>2:</span><span class='ee-v'>280785</span></li><li><span class='ee-k'>3:</span><span class='ee-v'>0</span></li><li><span class='ee-k'>4:</span><span class='ee-v'>-30</span></li><li><span class='ee-k'>5:</span><span class='ee-v'>5363115</span></li></ul></li><li><label class='ee-shut'>data_type: unsigned int8<input type='checkbox' class='ee-toggle'></label><ul><li><span class='ee-k'>type:</span><span class='ee-v'>PixelType</span></li><li><span class='ee-k'>max:</span><span class='ee-v'>255</span></li><li><span class='ee-k'>min:</span><span class='ee-v'>0</span></li><li><span class='ee-k'>precision:</span><span class='ee-v'>int</span></li></ul></li><li><label class='ee-shut'>dimensions: [8051, 7341]<input type='checkbox' class='ee-toggle'></label><ul><li><span class='ee-k'>0:</span><span class='ee-v'>8051</span></li><li><span class='ee-k'>1:</span><span class='ee-v'>7341</span></li></ul></li></ul></li><li><label class='ee-shut'>2: \"B3\", unsigned int8, EPSG:32622, 8051x7341 px<input type='checkbox' class='ee-toggle'></label><ul><li><span class='ee-k'>id:</span><span class='ee-v'>B3</span></li><li><span class='ee-k'>crs:</span><span class='ee-v'>EPSG:32622</span></li><li><label class='ee-shut'>crs_transform: [30, 0, 280785, 0, -30, 5363115]<input type='checkbox' class='ee-toggle'></label><ul><li><span class='ee-k'>0:</span><span class='ee-v'>30</span></li><li><span class='ee-k'>1:</span><span class='ee-v'>0</span></li><li><span class='ee-k'>2:</span><span class='ee-v'>280785</span></li><li><span class='ee-k'>3:</span><span class='ee-v'>0</span></li><li><span class='ee-k'>4:</span><span class='ee-v'>-30</span></li><li><span class='ee-k'>5:</span><span class='ee-v'>5363115</span></li></ul></li><li><label class='ee-shut'>data_type: unsigned int8<input type='checkbox' class='ee-toggle'></label><ul><li><span class='ee-k'>type:</span><span class='ee-v'>PixelType</span></li><li><span class='ee-k'>max:</span><span class='ee-v'>255</span></li><li><span class='ee-k'>min:</span><span class='ee-v'>0</span></li><li><span class='ee-k'>precision:</span><span class='ee-v'>int</span></li></ul></li><li><label class='ee-shut'>dimensions: [8051, 7341]<input type='checkbox' class='ee-toggle'></label><ul><li><span class='ee-k'>0:</span><span class='ee-v'>8051</span></li><li><span class='ee-k'>1:</span><span class='ee-v'>7341</span></li></ul></li></ul></li><li><label class='ee-shut'>3: \"B4\", unsigned int8, EPSG:32622, 8051x7341 px<input type='checkbox' class='ee-toggle'></label><ul><li><span class='ee-k'>id:</span><span class='ee-v'>B4</span></li><li><span class='ee-k'>crs:</span><span class='ee-v'>EPSG:32622</span></li><li><label class='ee-shut'>crs_transform: [30, 0, 280785, 0, -30, 5363115]<input type='checkbox' class='ee-toggle'></label><ul><li><span class='ee-k'>0:</span><span class='ee-v'>30</span></li><li><span class='ee-k'>1:</span><span class='ee-v'>0</span></li><li><span class='ee-k'>2:</span><span class='ee-v'>280785</span></li><li><span class='ee-k'>3:</span><span class='ee-v'>0</span></li><li><span class='ee-k'>4:</span><span class='ee-v'>-30</span></li><li><span class='ee-k'>5:</span><span class='ee-v'>5363115</span></li></ul></li><li><label class='ee-shut'>data_type: unsigned int8<input type='checkbox' class='ee-toggle'></label><ul><li><span class='ee-k'>type:</span><span class='ee-v'>PixelType</span></li><li><span class='ee-k'>max:</span><span class='ee-v'>255</span></li><li><span class='ee-k'>min:</span><span class='ee-v'>0</span></li><li><span class='ee-k'>precision:</span><span class='ee-v'>int</span></li></ul></li><li><label class='ee-shut'>dimensions: [8051, 7341]<input type='checkbox' class='ee-toggle'></label><ul><li><span class='ee-k'>0:</span><span class='ee-v'>8051</span></li><li><span class='ee-k'>1:</span><span class='ee-v'>7341</span></li></ul></li></ul></li><li><label class='ee-shut'>4: \"B5\", unsigned int8, EPSG:32622, 8051x7341 px<input type='checkbox' class='ee-toggle'></label><ul><li><span class='ee-k'>id:</span><span class='ee-v'>B5</span></li><li><span class='ee-k'>crs:</span><span class='ee-v'>EPSG:32622</span></li><li><label class='ee-shut'>crs_transform: [30, 0, 280785, 0, -30, 5363115]<input type='checkbox' class='ee-toggle'></label><ul><li><span class='ee-k'>0:</span><span class='ee-v'>30</span></li><li><span class='ee-k'>1:</span><span class='ee-v'>0</span></li><li><span class='ee-k'>2:</span><span class='ee-v'>280785</span></li><li><span class='ee-k'>3:</span><span class='ee-v'>0</span></li><li><span class='ee-k'>4:</span><span class='ee-v'>-30</span></li><li><span class='ee-k'>5:</span><span class='ee-v'>5363115</span></li></ul></li><li><label class='ee-shut'>data_type: unsigned int8<input type='checkbox' class='ee-toggle'></label><ul><li><span class='ee-k'>type:</span><span class='ee-v'>PixelType</span></li><li><span class='ee-k'>max:</span><span class='ee-v'>255</span></li><li><span class='ee-k'>min:</span><span class='ee-v'>0</span></li><li><span class='ee-k'>precision:</span><span class='ee-v'>int</span></li></ul></li><li><label class='ee-shut'>dimensions: [8051, 7341]<input type='checkbox' class='ee-toggle'></label><ul><li><span class='ee-k'>0:</span><span class='ee-v'>8051</span></li><li><span class='ee-k'>1:</span><span class='ee-v'>7341</span></li></ul></li></ul></li><li><label class='ee-shut'>5: \"B6\", unsigned int8, EPSG:32622, 8051x7341 px<input type='checkbox' class='ee-toggle'></label><ul><li><span class='ee-k'>id:</span><span class='ee-v'>B6</span></li><li><span class='ee-k'>crs:</span><span class='ee-v'>EPSG:32622</span></li><li><label class='ee-shut'>crs_transform: [30, 0, 280785, 0, -30, 5363115]<input type='checkbox' class='ee-toggle'></label><ul><li><span class='ee-k'>0:</span><span class='ee-v'>30</span></li><li><span class='ee-k'>1:</span><span class='ee-v'>0</span></li><li><span class='ee-k'>2:</span><span class='ee-v'>280785</span></li><li><span class='ee-k'>3:</span><span class='ee-v'>0</span></li><li><span class='ee-k'>4:</span><span class='ee-v'>-30</span></li><li><span class='ee-k'>5:</span><span class='ee-v'>5363115</span></li></ul></li><li><label class='ee-shut'>data_type: unsigned int8<input type='checkbox' class='ee-toggle'></label><ul><li><span class='ee-k'>type:</span><span class='ee-v'>PixelType</span></li><li><span class='ee-k'>max:</span><span class='ee-v'>255</span></li><li><span class='ee-k'>min:</span><span class='ee-v'>0</span></li><li><span class='ee-k'>precision:</span><span class='ee-v'>int</span></li></ul></li><li><label class='ee-shut'>dimensions: [8051, 7341]<input type='checkbox' class='ee-toggle'></label><ul><li><span class='ee-k'>0:</span><span class='ee-v'>8051</span></li><li><span class='ee-k'>1:</span><span class='ee-v'>7341</span></li></ul></li></ul></li><li><label class='ee-shut'>6: \"B7\", unsigned int8, EPSG:32622, 8051x7341 px<input type='checkbox' class='ee-toggle'></label><ul><li><span class='ee-k'>id:</span><span class='ee-v'>B7</span></li><li><span class='ee-k'>crs:</span><span class='ee-v'>EPSG:32622</span></li><li><label class='ee-shut'>crs_transform: [30, 0, 280785, 0, -30, 5363115]<input type='checkbox' class='ee-toggle'></label><ul><li><span class='ee-k'>0:</span><span class='ee-v'>30</span></li><li><span class='ee-k'>1:</span><span class='ee-v'>0</span></li><li><span class='ee-k'>2:</span><span class='ee-v'>280785</span></li><li><span class='ee-k'>3:</span><span class='ee-v'>0</span></li><li><span class='ee-k'>4:</span><span class='ee-v'>-30</span></li><li><span class='ee-k'>5:</span><span class='ee-v'>5363115</span></li></ul></li><li><label class='ee-shut'>data_type: unsigned int8<input type='checkbox' class='ee-toggle'></label><ul><li><span class='ee-k'>type:</span><span class='ee-v'>PixelType</span></li><li><span class='ee-k'>max:</span><span class='ee-v'>255</span></li><li><span class='ee-k'>min:</span><span class='ee-v'>0</span></li><li><span class='ee-k'>precision:</span><span class='ee-v'>int</span></li></ul></li><li><label class='ee-shut'>dimensions: [8051, 7341]<input type='checkbox' class='ee-toggle'></label><ul><li><span class='ee-k'>0:</span><span class='ee-v'>8051</span></li><li><span class='ee-k'>1:</span><span class='ee-v'>7341</span></li></ul></li></ul></li><li><label class='ee-shut'>7: \"QA_PIXEL\", unsigned int16, EPSG:32622, 8051x7341 px<input type='checkbox' class='ee-toggle'></label><ul><li><span class='ee-k'>id:</span><span class='ee-v'>QA_PIXEL</span></li><li><span class='ee-k'>crs:</span><span class='ee-v'>EPSG:32622</span></li><li><label class='ee-shut'>crs_transform: [30, 0, 280785, 0, -30, 5363115]<input type='checkbox' class='ee-toggle'></label><ul><li><span class='ee-k'>0:</span><span class='ee-v'>30</span></li><li><span class='ee-k'>1:</span><span class='ee-v'>0</span></li><li><span class='ee-k'>2:</span><span class='ee-v'>280785</span></li><li><span class='ee-k'>3:</span><span class='ee-v'>0</span></li><li><span class='ee-k'>4:</span><span class='ee-v'>-30</span></li><li><span class='ee-k'>5:</span><span class='ee-v'>5363115</span></li></ul></li><li><label class='ee-shut'>data_type: unsigned int16<input type='checkbox' class='ee-toggle'></label><ul><li><span class='ee-k'>type:</span><span class='ee-v'>PixelType</span></li><li><span class='ee-k'>max:</span><span class='ee-v'>65535</span></li><li><span class='ee-k'>min:</span><span class='ee-v'>0</span></li><li><span class='ee-k'>precision:</span><span class='ee-v'>int</span></li></ul></li><li><label class='ee-shut'>dimensions: [8051, 7341]<input type='checkbox' class='ee-toggle'></label><ul><li><span class='ee-k'>0:</span><span class='ee-v'>8051</span></li><li><span class='ee-k'>1:</span><span class='ee-v'>7341</span></li></ul></li></ul></li><li><label class='ee-shut'>8: \"QA_RADSAT\", unsigned int16, EPSG:32622, 8051x7341 px<input type='checkbox' class='ee-toggle'></label><ul><li><span class='ee-k'>id:</span><span class='ee-v'>QA_RADSAT</span></li><li><span class='ee-k'>crs:</span><span class='ee-v'>EPSG:32622</span></li><li><label class='ee-shut'>crs_transform: [30, 0, 280785, 0, -30, 5363115]<input type='checkbox' class='ee-toggle'></label><ul><li><span class='ee-k'>0:</span><span class='ee-v'>30</span></li><li><span class='ee-k'>1:</span><span class='ee-v'>0</span></li><li><span class='ee-k'>2:</span><span class='ee-v'>280785</span></li><li><span class='ee-k'>3:</span><span class='ee-v'>0</span></li><li><span class='ee-k'>4:</span><span class='ee-v'>-30</span></li><li><span class='ee-k'>5:</span><span class='ee-v'>5363115</span></li></ul></li><li><label class='ee-shut'>data_type: unsigned int16<input type='checkbox' class='ee-toggle'></label><ul><li><span class='ee-k'>type:</span><span class='ee-v'>PixelType</span></li><li><span class='ee-k'>max:</span><span class='ee-v'>65535</span></li><li><span class='ee-k'>min:</span><span class='ee-v'>0</span></li><li><span class='ee-k'>precision:</span><span class='ee-v'>int</span></li></ul></li><li><label class='ee-shut'>dimensions: [8051, 7341]<input type='checkbox' class='ee-toggle'></label><ul><li><span class='ee-k'>0:</span><span class='ee-v'>8051</span></li><li><span class='ee-k'>1:</span><span class='ee-v'>7341</span></li></ul></li></ul></li><li><label class='ee-shut'>9: \"SAA\", signed int16, EPSG:32622, 8051x7341 px<input type='checkbox' class='ee-toggle'></label><ul><li><span class='ee-k'>id:</span><span class='ee-v'>SAA</span></li><li><span class='ee-k'>crs:</span><span class='ee-v'>EPSG:32622</span></li><li><label class='ee-shut'>crs_transform: [30, 0, 280785, 0, -30, 5363115]<input type='checkbox' class='ee-toggle'></label><ul><li><span class='ee-k'>0:</span><span class='ee-v'>30</span></li><li><span class='ee-k'>1:</span><span class='ee-v'>0</span></li><li><span class='ee-k'>2:</span><span class='ee-v'>280785</span></li><li><span class='ee-k'>3:</span><span class='ee-v'>0</span></li><li><span class='ee-k'>4:</span><span class='ee-v'>-30</span></li><li><span class='ee-k'>5:</span><span class='ee-v'>5363115</span></li></ul></li><li><label class='ee-shut'>data_type: signed int16<input type='checkbox' class='ee-toggle'></label><ul><li><span class='ee-k'>type:</span><span class='ee-v'>PixelType</span></li><li><span class='ee-k'>max:</span><span class='ee-v'>32767</span></li><li><span class='ee-k'>min:</span><span class='ee-v'>-32768</span></li><li><span class='ee-k'>precision:</span><span class='ee-v'>int</span></li></ul></li><li><label class='ee-shut'>dimensions: [8051, 7341]<input type='checkbox' class='ee-toggle'></label><ul><li><span class='ee-k'>0:</span><span class='ee-v'>8051</span></li><li><span class='ee-k'>1:</span><span class='ee-v'>7341</span></li></ul></li></ul></li><li><label class='ee-shut'>10: \"SZA\", signed int16, EPSG:32622, 8051x7341 px<input type='checkbox' class='ee-toggle'></label><ul><li><span class='ee-k'>id:</span><span class='ee-v'>SZA</span></li><li><span class='ee-k'>crs:</span><span class='ee-v'>EPSG:32622</span></li><li><label class='ee-shut'>crs_transform: [30, 0, 280785, 0, -30, 5363115]<input type='checkbox' class='ee-toggle'></label><ul><li><span class='ee-k'>0:</span><span class='ee-v'>30</span></li><li><span class='ee-k'>1:</span><span class='ee-v'>0</span></li><li><span class='ee-k'>2:</span><span class='ee-v'>280785</span></li><li><span class='ee-k'>3:</span><span class='ee-v'>0</span></li><li><span class='ee-k'>4:</span><span class='ee-v'>-30</span></li><li><span class='ee-k'>5:</span><span class='ee-v'>5363115</span></li></ul></li><li><label class='ee-shut'>data_type: signed int16<input type='checkbox' class='ee-toggle'></label><ul><li><span class='ee-k'>type:</span><span class='ee-v'>PixelType</span></li><li><span class='ee-k'>max:</span><span class='ee-v'>32767</span></li><li><span class='ee-k'>min:</span><span class='ee-v'>-32768</span></li><li><span class='ee-k'>precision:</span><span class='ee-v'>int</span></li></ul></li><li><label class='ee-shut'>dimensions: [8051, 7341]<input type='checkbox' class='ee-toggle'></label><ul><li><span class='ee-k'>0:</span><span class='ee-v'>8051</span></li><li><span class='ee-k'>1:</span><span class='ee-v'>7341</span></li></ul></li></ul></li><li><label class='ee-shut'>11: \"VAA\", signed int16, EPSG:32622, 8051x7341 px<input type='checkbox' class='ee-toggle'></label><ul><li><span class='ee-k'>id:</span><span class='ee-v'>VAA</span></li><li><span class='ee-k'>crs:</span><span class='ee-v'>EPSG:32622</span></li><li><label class='ee-shut'>crs_transform: [30, 0, 280785, 0, -30, 5363115]<input type='checkbox' class='ee-toggle'></label><ul><li><span class='ee-k'>0:</span><span class='ee-v'>30</span></li><li><span class='ee-k'>1:</span><span class='ee-v'>0</span></li><li><span class='ee-k'>2:</span><span class='ee-v'>280785</span></li><li><span class='ee-k'>3:</span><span class='ee-v'>0</span></li><li><span class='ee-k'>4:</span><span class='ee-v'>-30</span></li><li><span class='ee-k'>5:</span><span class='ee-v'>5363115</span></li></ul></li><li><label class='ee-shut'>data_type: signed int16<input type='checkbox' class='ee-toggle'></label><ul><li><span class='ee-k'>type:</span><span class='ee-v'>PixelType</span></li><li><span class='ee-k'>max:</span><span class='ee-v'>32767</span></li><li><span class='ee-k'>min:</span><span class='ee-v'>-32768</span></li><li><span class='ee-k'>precision:</span><span class='ee-v'>int</span></li></ul></li><li><label class='ee-shut'>dimensions: [8051, 7341]<input type='checkbox' class='ee-toggle'></label><ul><li><span class='ee-k'>0:</span><span class='ee-v'>8051</span></li><li><span class='ee-k'>1:</span><span class='ee-v'>7341</span></li></ul></li></ul></li><li><label class='ee-shut'>12: \"VZA\", signed int16, EPSG:32622, 8051x7341 px<input type='checkbox' class='ee-toggle'></label><ul><li><span class='ee-k'>id:</span><span class='ee-v'>VZA</span></li><li><span class='ee-k'>crs:</span><span class='ee-v'>EPSG:32622</span></li><li><label class='ee-shut'>crs_transform: [30, 0, 280785, 0, -30, 5363115]<input type='checkbox' class='ee-toggle'></label><ul><li><span class='ee-k'>0:</span><span class='ee-v'>30</span></li><li><span class='ee-k'>1:</span><span class='ee-v'>0</span></li><li><span class='ee-k'>2:</span><span class='ee-v'>280785</span></li><li><span class='ee-k'>3:</span><span class='ee-v'>0</span></li><li><span class='ee-k'>4:</span><span class='ee-v'>-30</span></li><li><span class='ee-k'>5:</span><span class='ee-v'>5363115</span></li></ul></li><li><label class='ee-shut'>data_type: signed int16<input type='checkbox' class='ee-toggle'></label><ul><li><span class='ee-k'>type:</span><span class='ee-v'>PixelType</span></li><li><span class='ee-k'>max:</span><span class='ee-v'>32767</span></li><li><span class='ee-k'>min:</span><span class='ee-v'>-32768</span></li><li><span class='ee-k'>precision:</span><span class='ee-v'>int</span></li></ul></li><li><label class='ee-shut'>dimensions: [8051, 7341]<input type='checkbox' class='ee-toggle'></label><ul><li><span class='ee-k'>0:</span><span class='ee-v'>8051</span></li><li><span class='ee-k'>1:</span><span class='ee-v'>7341</span></li></ul></li></ul></li></ul></li><li><label class='ee-shut'>properties: Object (106 properties)<input type='checkbox' class='ee-toggle'></label><ul><li><span class='ee-k'>CLOUD_COVER:</span><span class='ee-v'>95</span></li><li><span class='ee-k'>CLOUD_COVER_LAND:</span><span class='ee-v'>91</span></li><li><span class='ee-k'>COLLECTION_CATEGORY:</span><span class='ee-v'>T1</span></li><li><span class='ee-k'>COLLECTION_NUMBER:</span><span class='ee-v'>2</span></li><li><span class='ee-k'>CORRECTION_BIAS_BAND_1:</span><span class='ee-v'>INTERNAL_CALIBRATION</span></li><li><span class='ee-k'>CORRECTION_BIAS_BAND_2:</span><span class='ee-v'>INTERNAL_CALIBRATION</span></li><li><span class='ee-k'>CORRECTION_BIAS_BAND_3:</span><span class='ee-v'>INTERNAL_CALIBRATION</span></li><li><span class='ee-k'>CORRECTION_BIAS_BAND_4:</span><span class='ee-v'>INTERNAL_CALIBRATION</span></li><li><span class='ee-k'>CORRECTION_BIAS_BAND_5:</span><span class='ee-v'>INTERNAL_CALIBRATION</span></li><li><span class='ee-k'>CORRECTION_BIAS_BAND_6:</span><span class='ee-v'>INTERNAL_CALIBRATION</span></li><li><span class='ee-k'>CORRECTION_BIAS_BAND_7:</span><span class='ee-v'>INTERNAL_CALIBRATION</span></li><li><span class='ee-k'>CORRECTION_GAIN_BAND_1:</span><span class='ee-v'>CPF</span></li><li><span class='ee-k'>CORRECTION_GAIN_BAND_2:</span><span class='ee-v'>CPF</span></li><li><span class='ee-k'>CORRECTION_GAIN_BAND_3:</span><span class='ee-v'>CPF</span></li><li><span class='ee-k'>CORRECTION_GAIN_BAND_4:</span><span class='ee-v'>CPF</span></li><li><span class='ee-k'>CORRECTION_GAIN_BAND_5:</span><span class='ee-v'>CPF</span></li><li><span class='ee-k'>CORRECTION_GAIN_BAND_6:</span><span class='ee-v'>INTERNAL_CALIBRATION</span></li><li><span class='ee-k'>CORRECTION_GAIN_BAND_7:</span><span class='ee-v'>CPF</span></li><li><span class='ee-k'>DATA_SOURCE_ELEVATION:</span><span class='ee-v'>GLS2000</span></li><li><span class='ee-k'>DATA_TYPE_L0RP:</span><span class='ee-v'>TMR_L0RP</span></li><li><span class='ee-k'>DATE_ACQUIRED:</span><span class='ee-v'>1982-12-02</span></li><li><span class='ee-k'>DATE_PRODUCT_GENERATED:</span><span class='ee-v'>1600456350000</span></li><li><span class='ee-k'>DATUM:</span><span class='ee-v'>WGS84</span></li><li><span class='ee-k'>EARTH_SUN_DISTANCE:</span><span class='ee-v'>0.9858397</span></li><li><span class='ee-k'>ELLIPSOID:</span><span class='ee-v'>WGS84</span></li><li><span class='ee-k'>EPHEMERIS_TYPE:</span><span class='ee-v'>PREDICTIVE</span></li><li><span class='ee-k'>GEOMETRIC_RMSE_MODEL:</span><span class='ee-v'>8.935</span></li><li><span class='ee-k'>GEOMETRIC_RMSE_MODEL_X:</span><span class='ee-v'>7.392</span></li><li><span class='ee-k'>GEOMETRIC_RMSE_MODEL_Y:</span><span class='ee-v'>5.019</span></li><li><span class='ee-k'>GEOMETRIC_RMSE_VERIFY:</span><span class='ee-v'>0.475</span></li><li><span class='ee-k'>GEOMETRIC_RMSE_VERIFY_QUAD_LL:</span><span class='ee-v'>0.475</span></li><li><span class='ee-k'>GEOMETRIC_RMSE_VERIFY_QUAD_LR:</span><span class='ee-v'>0</span></li><li><span class='ee-k'>GEOMETRIC_RMSE_VERIFY_QUAD_UL:</span><span class='ee-v'>0</span></li><li><span class='ee-k'>GEOMETRIC_RMSE_VERIFY_QUAD_UR:</span><span class='ee-v'>0</span></li><li><span class='ee-k'>GRID_CELL_SIZE_REFLECTIVE:</span><span class='ee-v'>30</span></li><li><span class='ee-k'>GRID_CELL_SIZE_THERMAL:</span><span class='ee-v'>30</span></li><li><span class='ee-k'>GROUND_CONTROL_POINTS_MODEL:</span><span class='ee-v'>81</span></li><li><span class='ee-k'>GROUND_CONTROL_POINTS_VERIFY:</span><span class='ee-v'>58</span></li><li><span class='ee-k'>GROUND_CONTROL_POINTS_VERSION:</span><span class='ee-v'>5</span></li><li><span class='ee-k'>IMAGE_QUALITY:</span><span class='ee-v'>9</span></li><li><span class='ee-k'>K1_CONSTANT_BAND_6:</span><span class='ee-v'>671.62</span></li><li><span class='ee-k'>K2_CONSTANT_BAND_6:</span><span class='ee-v'>1284.3</span></li><li><span class='ee-k'>LANDSAT_PRODUCT_ID:</span><span class='ee-v'>LT04_L1TP_001027_19821202_20200918_02_T1</span></li><li><span class='ee-k'>LANDSAT_SCENE_ID:</span><span class='ee-v'>LT40010271982336PAC00</span></li><li><span class='ee-k'>MAP_PROJECTION:</span><span class='ee-v'>UTM</span></li><li><span class='ee-k'>MAP_PROJECTION_L0RA:</span><span class='ee-v'>NA</span></li><li><span class='ee-k'>ORIENTATION:</span><span class='ee-v'>NORTH_UP</span></li><li><span class='ee-k'>PROCESSING_LEVEL:</span><span class='ee-v'>L1TP</span></li><li><span class='ee-k'>PROCESSING_SOFTWARE_VERSION:</span><span class='ee-v'>LPGS_15.3.1c</span></li><li><span class='ee-k'>RADIANCE_ADD_BAND_1:</span><span class='ee-v'>-2.16772</span></li><li><span class='ee-k'>RADIANCE_ADD_BAND_2:</span><span class='ee-v'>-4.17402</span></li><li><span class='ee-k'>RADIANCE_ADD_BAND_3:</span><span class='ee-v'>-2.17461</span></li><li><span class='ee-k'>RADIANCE_ADD_BAND_4:</span><span class='ee-v'>-2.38602</span></li><li><span class='ee-k'>RADIANCE_ADD_BAND_5:</span><span class='ee-v'>-0.49508</span></li><li><span class='ee-k'>RADIANCE_ADD_BAND_6:</span><span class='ee-v'>1.18243</span></li><li><span class='ee-k'>RADIANCE_ADD_BAND_7:</span><span class='ee-v'>-0.21594</span></li><li><span class='ee-k'>RADIANCE_MULT_BAND_1:</span><span class='ee-v'>0.64772</span></li><li><span class='ee-k'>RADIANCE_MULT_BAND_2:</span><span class='ee-v'>1.334</span></li><li><span class='ee-k'>RADIANCE_MULT_BAND_3:</span><span class='ee-v'>1.0046</span></li><li><span class='ee-k'>RADIANCE_MULT_BAND_4:</span><span class='ee-v'>0.87602</span></li><li><span class='ee-k'>RADIANCE_MULT_BAND_5:</span><span class='ee-v'>0.12508</span></li><li><span class='ee-k'>RADIANCE_MULT_BAND_6:</span><span class='ee-v'>0.055375</span></li><li><span class='ee-k'>RADIANCE_MULT_BAND_7:</span><span class='ee-v'>0.065945</span></li><li><span class='ee-k'>REFLECTANCE_ADD_BAND_1:</span><span class='ee-v'>-0.003406</span></li><li><span class='ee-k'>REFLECTANCE_ADD_BAND_2:</span><span class='ee-v'>-0.007249</span></li><li><span class='ee-k'>REFLECTANCE_ADD_BAND_3:</span><span class='ee-v'>-0.004471</span></li><li><span class='ee-k'>REFLECTANCE_ADD_BAND_4:</span><span class='ee-v'>-0.007052</span></li><li><span class='ee-k'>REFLECTANCE_ADD_BAND_5:</span><span class='ee-v'>-0.006818</span></li><li><span class='ee-k'>REFLECTANCE_ADD_BAND_7:</span><span class='ee-v'>-0.007921</span></li><li><span class='ee-k'>REFLECTANCE_MULT_BAND_1:</span><span class='ee-v'>0.0010178</span></li><li><span class='ee-k'>REFLECTANCE_MULT_BAND_2:</span><span class='ee-v'>0.0023169</span></li><li><span class='ee-k'>REFLECTANCE_MULT_BAND_3:</span><span class='ee-v'>0.0020655</span></li><li><span class='ee-k'>REFLECTANCE_MULT_BAND_4:</span><span class='ee-v'>0.0025893</span></li><li><span class='ee-k'>REFLECTANCE_MULT_BAND_5:</span><span class='ee-v'>0.0017226</span></li><li><span class='ee-k'>REFLECTANCE_MULT_BAND_7:</span><span class='ee-v'>0.0024189</span></li><li><span class='ee-k'>REFLECTIVE_LINES:</span><span class='ee-v'>7341</span></li><li><span class='ee-k'>REFLECTIVE_SAMPLES:</span><span class='ee-v'>8051</span></li><li><span class='ee-k'>REQUEST_ID:</span><span class='ee-v'>L2</span></li><li><span class='ee-k'>RESAMPLING_OPTION:</span><span class='ee-v'>CUBIC_CONVOLUTION</span></li><li><span class='ee-k'>SATURATION_BAND_1:</span><span class='ee-v'>Y</span></li><li><span class='ee-k'>SATURATION_BAND_2:</span><span class='ee-v'>N</span></li><li><span class='ee-k'>SATURATION_BAND_3:</span><span class='ee-v'>Y</span></li><li><span class='ee-k'>SATURATION_BAND_4:</span><span class='ee-v'>N</span></li><li><span class='ee-k'>SATURATION_BAND_5:</span><span class='ee-v'>N</span></li><li><span class='ee-k'>SATURATION_BAND_6:</span><span class='ee-v'>N</span></li><li><span class='ee-k'>SATURATION_BAND_7:</span><span class='ee-v'>Y</span></li><li><span class='ee-k'>SCENE_CENTER_TIME:</span><span class='ee-v'>13:46:04.2230940Z</span></li><li><span class='ee-k'>SENSOR_ANOMALIES:</span><span class='ee-v'>NONE</span></li><li><span class='ee-k'>SENSOR_ID:</span><span class='ee-v'>TM</span></li><li><span class='ee-k'>SENSOR_MODE:</span><span class='ee-v'>SAM</span></li><li><span class='ee-k'>SENSOR_MODE_SLC:</span><span class='ee-v'>ON</span></li><li><span class='ee-k'>SPACECRAFT_ID:</span><span class='ee-v'>LANDSAT_4</span></li><li><span class='ee-k'>STATION_ID:</span><span class='ee-v'>PAC</span></li><li><span class='ee-k'>SUN_AZIMUTH:</span><span class='ee-v'>157.51422502</span></li><li><span class='ee-k'>SUN_ELEVATION:</span><span class='ee-v'>17.52428843</span></li><li><span class='ee-k'>THERMAL_LINES:</span><span class='ee-v'>7341</span></li><li><span class='ee-k'>THERMAL_SAMPLES:</span><span class='ee-v'>8051</span></li><li><span class='ee-k'>UTM_ZONE:</span><span class='ee-v'>22</span></li><li><span class='ee-k'>WRS_PATH:</span><span class='ee-v'>1</span></li><li><span class='ee-k'>WRS_ROW:</span><span class='ee-v'>27</span></li><li><span class='ee-k'>WRS_TYPE:</span><span class='ee-v'>2</span></li><li><span class='ee-k'>system:asset_size:</span><span class='ee-v'>165080051</span></li><li><label class='ee-shut'>system:footprint: LinearRing (20 vertices)<input type='checkbox' class='ee-toggle'></label><ul><li><span class='ee-k'>type:</span><span class='ee-v'>LinearRing</span></li><li><label class='ee-shut'>coordinates: List (20 elements)<input type='checkbox' class='ee-toggle'></label><ul><li><label class='ee-shut'>0: [-51.41760738297664, 46.44983702504089]<input type='checkbox' class='ee-toggle'></label><ul><li><span class='ee-k'>0:</span><span class='ee-v'>-51.41760738297664</span></li><li><span class='ee-k'>1:</span><span class='ee-v'>46.44983702504089</span></li></ul></li><li><label class='ee-shut'>1: [-51.37634673009059, 46.443379307382784]<input type='checkbox' class='ee-toggle'></label><ul><li><span class='ee-k'>0:</span><span class='ee-v'>-51.37634673009059</span></li><li><span class='ee-k'>1:</span><span class='ee-v'>46.443379307382784</span></li></ul></li><li><label class='ee-shut'>2: [-51.36226982612406, 46.44983884329326]<input type='checkbox' class='ee-toggle'></label><ul><li><span class='ee-k'>0:</span><span class='ee-v'>-51.36226982612406</span></li><li><span class='ee-k'>1:</span><span class='ee-v'>46.44983884329326</span></li></ul></li><li><label class='ee-shut'>3: [-51.35597837987555, 46.45657299132362]<input type='checkbox' class='ee-toggle'></label><ul><li><span class='ee-k'>0:</span><span class='ee-v'>-51.35597837987555</span></li><li><span class='ee-k'>1:</span><span class='ee-v'>46.45657299132362</span></li></ul></li><li><label class='ee-shut'>4: [-51.28771418543138, 46.625391970776874]<input type='checkbox' class='ee-toggle'></label><ul><li><span class='ee-k'>0:</span><span class='ee-v'>-51.28771418543138</span></li><li><span class='ee-k'>1:</span><span class='ee-v'>46.625391970776874</span></li></ul></li><li><label class='ee-shut'>5: [-51.23303805691044, 46.75996538351486]<input type='checkbox' class='ee-toggle'></label><ul><li><span class='ee-k'>0:</span><span class='ee-v'>-51.23303805691044</span></li><li><span class='ee-k'>1:</span><span class='ee-v'>46.75996538351486</span></li></ul></li><li><label class='ee-shut'>6: [-51.08121384343381, 47.13077507066681]<input type='checkbox' class='ee-toggle'></label><ul><li><span class='ee-k'>0:</span><span class='ee-v'>-51.08121384343381</span></li><li><span class='ee-k'>1:</span><span class='ee-v'>47.13077507066681</span></li></ul></li><li><label class='ee-shut'>7: [-50.970919400132836, 47.39734618158917]<input type='checkbox' class='ee-toggle'></label><ul><li><span class='ee-k'>0:</span><span class='ee-v'>-50.970919400132836</span></li><li><span class='ee-k'>1:</span><span class='ee-v'>47.39734618158917</span></li></ul></li><li><label class='ee-shut'>8: [-50.890440323037296, 47.59036763791249]<input type='checkbox' class='ee-toggle'></label><ul><li><span class='ee-k'>0:</span><span class='ee-v'>-50.890440323037296</span></li><li><span class='ee-k'>1:</span><span class='ee-v'>47.59036763791249</span></li></ul></li><li><label class='ee-shut'>9: [-50.7145065243137, 48.00790588236205]<input type='checkbox' class='ee-toggle'></label><ul><li><span class='ee-k'>0:</span><span class='ee-v'>-50.7145065243137</span></li><li><span class='ee-k'>1:</span><span class='ee-v'>48.00790588236205</span></li></ul></li><li><label class='ee-shut'>10: [-50.71361515999617, 48.015864063463496]<input type='checkbox' class='ee-toggle'></label><ul><li><span class='ee-k'>0:</span><span class='ee-v'>-50.71361515999617</span></li><li><span class='ee-k'>1:</span><span class='ee-v'>48.015864063463496</span></li></ul></li><li><label class='ee-shut'>11: [-50.72651022759634, 48.020089144635904]<input type='checkbox' class='ee-toggle'></label><ul><li><span class='ee-k'>0:</span><span class='ee-v'>-50.72651022759634</span></li><li><span class='ee-k'>1:</span><span class='ee-v'>48.020089144635904</span></li></ul></li><li><label class='ee-shut'>12: [-53.246238467277735, 48.38980138053531]<input type='checkbox' class='ee-toggle'></label><ul><li><span class='ee-k'>0:</span><span class='ee-v'>-53.246238467277735</span></li><li><span class='ee-k'>1:</span><span class='ee-v'>48.38980138053531</span></li></ul></li><li><label class='ee-shut'>13: [-53.30375029234264, 48.3974922431629]<input type='checkbox' class='ee-toggle'></label><ul><li><span class='ee-k'>0:</span><span class='ee-v'>-53.30375029234264</span></li><li><span class='ee-k'>1:</span><span class='ee-v'>48.3974922431629</span></li></ul></li><li><label class='ee-shut'>14: [-53.58926673168845, 47.62453071992507]<input type='checkbox' class='ee-toggle'></label><ul><li><span class='ee-k'>0:</span><span class='ee-v'>-53.58926673168845</span></li><li><span class='ee-k'>1:</span><span class='ee-v'>47.62453071992507</span></li></ul></li><li><label class='ee-shut'>15: [-53.8739582536988, 46.83098472984158]<input type='checkbox' class='ee-toggle'></label><ul><li><span class='ee-k'>0:</span><span class='ee-v'>-53.8739582536988</span></li><li><span class='ee-k'>1:</span><span class='ee-v'>46.83098472984158</span></li></ul></li><li><label class='ee-shut'>16: [-53.8745596409293, 46.82542171691283]<input type='checkbox' class='ee-toggle'></label><ul><li><span class='ee-k'>0:</span><span class='ee-v'>-53.8745596409293</span></li><li><span class='ee-k'>1:</span><span class='ee-v'>46.82542171691283</span></li></ul></li><li><label class='ee-shut'>17: [-53.8736526823692, 46.808414337547475]<input type='checkbox' class='ee-toggle'></label><ul><li><span class='ee-k'>0:</span><span class='ee-v'>-53.8736526823692</span></li><li><span class='ee-k'>1:</span><span class='ee-v'>46.808414337547475</span></li></ul></li><li><label class='ee-shut'>18: [-52.904023854362165, 46.67370514886564]<input type='checkbox' class='ee-toggle'></label><ul><li><span class='ee-k'>0:</span><span class='ee-v'>-52.904023854362165</span></li><li><span class='ee-k'>1:</span><span class='ee-v'>46.67370514886564</span></li></ul></li><li><label class='ee-shut'>19: [-51.41760738297664, 46.44983702504089]<input type='checkbox' class='ee-toggle'></label><ul><li><span class='ee-k'>0:</span><span class='ee-v'>-51.41760738297664</span></li><li><span class='ee-k'>1:</span><span class='ee-v'>46.44983702504089</span></li></ul></li></ul></li></ul></li><li><span class='ee-k'>system:index:</span><span class='ee-v'>LT04_001027_19821202</span></li><li><span class='ee-k'>system:time_end:</span><span class='ee-v'>407684764223</span></li><li><span class='ee-k'>system:time_start:</span><span class='ee-v'>407684764223</span></li></ul></li></ul></li></ul></div><script>function toggleHeader() {\n",
       "    const parent = this.parentElement;\n",
       "    parent.className = parent.className === \"ee-open\" ? \"ee-shut\" : \"ee-open\";\n",
       "}\n",
       "\n",
       "for (let c of document.getElementsByClassName(\"ee-toggle\")) {\n",
       "    c.onclick = toggleHeader;\n",
       "}</script></div>"
      ],
      "text/plain": [
       "<ee.image.Image at 0x1b6846e3fa0>"
      ]
     },
     "execution_count": 32,
     "metadata": {},
     "output_type": "execute_result"
    }
   ],
   "source": []
  },
  {
   "cell_type": "code",
   "execution_count": null,
   "id": "88647eec-e0e7-4458-a4c4-524dfe9f1866",
   "metadata": {},
   "outputs": [],
   "source": []
  }
 ],
 "metadata": {
  "kernelspec": {
   "display_name": "ee",
   "language": "python",
   "name": "ee"
  },
  "language_info": {
   "codemirror_mode": {
    "name": "ipython",
    "version": 3
   },
   "file_extension": ".py",
   "mimetype": "text/x-python",
   "name": "python",
   "nbconvert_exporter": "python",
   "pygments_lexer": "ipython3",
   "version": "3.10.10"
  }
 },
 "nbformat": 4,
 "nbformat_minor": 5
}
